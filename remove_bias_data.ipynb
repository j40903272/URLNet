{
 "cells": [
  {
   "cell_type": "code",
   "execution_count": 1,
   "metadata": {},
   "outputs": [],
   "source": [
    "import os\n",
    "import pickle\n",
    "import pandas as pd\n",
    "import numpy as np\n",
    "from tqdm import tqdm\n",
    "import matplotlib.pyplot as plt\n",
    "%matplotlib inline\n",
    "\n",
    "from sklearn.pipeline import make_pipeline\n",
    "from sklearn.model_selection import cross_validate\n",
    "from sklearn.metrics import accuracy_score, roc_auc_score\n",
    "from sklearn.feature_extraction.text import TfidfVectorizer"
   ]
  },
  {
   "cell_type": "code",
   "execution_count": 2,
   "metadata": {},
   "outputs": [],
   "source": [
    "import logging\n",
    "logging.getLogger().setLevel(logging.ERROR)\n",
    "import warnings\n",
    "warnings.filterwarnings(\"ignore\")"
   ]
  },
  {
   "cell_type": "code",
   "execution_count": 3,
   "metadata": {},
   "outputs": [
    {
     "name": "stdout",
     "output_type": "stream",
     "text": [
      "49850 2624 9141\n"
     ]
    }
   ],
   "source": [
    "train_df = pd.read_csv(\"train_10000.txt\", header=None)\n",
    "test_df = pd.read_csv(\"val_10000.txt\", header=None)\n",
    "val_df = pd.read_csv(\"test_10000.txt\", header=None)\n",
    "\n",
    "train_df.columns = val_df.columns = test_df.columns = [\"label\", \"url\"]\n",
    "print(len(train_df), len(test_df), len(val_df))"
   ]
  },
  {
   "cell_type": "code",
   "execution_count": 4,
   "metadata": {},
   "outputs": [
    {
     "name": "stdout",
     "output_type": "stream",
     "text": [
      "WARNING:tensorflow:From /host/Proxy/URLNet/utils.py:102: VocabularyProcessor.__init__ (from tensorflow.contrib.learn.python.learn.preprocessing.text) is deprecated and will be removed in a future version.\n",
      "Instructions for updating:\n",
      "Please use tensorflow/transform or tf.data.\n",
      "WARNING:tensorflow:From /usr/local/lib/python3.5/dist-packages/tensorflow/contrib/learn/python/learn/preprocessing/text.py:154: CategoricalVocabulary.__init__ (from tensorflow.contrib.learn.python.learn.preprocessing.categorical_vocabulary) is deprecated and will be removed in a future version.\n",
      "Instructions for updating:\n",
      "Please use tensorflow/transform or tf.data.\n",
      "WARNING:tensorflow:From /usr/local/lib/python3.5/dist-packages/tensorflow/contrib/learn/python/learn/preprocessing/text.py:170: tokenizer (from tensorflow.contrib.learn.python.learn.preprocessing.text) is deprecated and will be removed in a future version.\n",
      "Instructions for updating:\n",
      "Please use tensorflow/transform or tf.data.\n",
      "Finished build vocabulary and mapping to x in 2.5685558319091797\n",
      "Size of word vocabulary: 70650\n"
     ]
    }
   ],
   "source": [
    "# build own tokenizer and vocab\n",
    "from utils import get_word_vocab, get_words\n",
    "x, word_reverse_dict = get_word_vocab(train_df.url.values, 200)\n",
    "word_dict = {word_reverse_dict[key]:key for key in word_reverse_dict}\n",
    "word_x = get_words(x, word_reverse_dict, 1, train_df.url.values)\n",
    "def tokenizer(x):\n",
    "    return get_words([x], word_reverse_dict, 1, train_df.url.values)[0]"
   ]
  },
  {
   "cell_type": "code",
   "execution_count": 5,
   "metadata": {},
   "outputs": [
    {
     "data": {
      "text/plain": [
       "49850"
      ]
     },
     "execution_count": 5,
     "metadata": {},
     "output_type": "execute_result"
    }
   ],
   "source": [
    "# word_x -> list = tokenized url data\n",
    "len(word_x)"
   ]
  },
  {
   "cell_type": "raw",
   "metadata": {},
   "source": [
    "import tensorflow as tf\n",
    "from tensorflow.contrib import learn\n",
    "from tflearn.data_utils import to_categorical, pad_sequences"
   ]
  },
  {
   "cell_type": "markdown",
   "metadata": {},
   "source": [
    "# load data"
   ]
  },
  {
   "cell_type": "code",
   "execution_count": 6,
   "metadata": {},
   "outputs": [
    {
     "name": "stdout",
     "output_type": "stream",
     "text": [
      "Size of subword vocabulary (train): 131\n",
      "size of word vocabulary (train): 16090\n",
      "Finished build vocabulary and mapping to x in 3.3044486045837402\n",
      "Size of word vocabulary: 70650\n",
      "Index of <UNKNOWN> word: 15977\n",
      "Processing url #0\n",
      "Number of training urls: 49850\n",
      "Finished build vocabulary and mapping to x in 0.15797734260559082\n",
      "Size of word vocabulary: 7513\n",
      "Index of <UNKNOWN> word: 15977\n",
      "Processing url #0\n",
      "Number of testing urls: 2624\n"
     ]
    }
   ],
   "source": [
    "from utils import *\n",
    "\n",
    "ngram_dict = pickle.load(open(\"runs/10000/subwords_dict.p\", \"rb\")) \n",
    "print(\"Size of subword vocabulary (train): {}\".format(len(ngram_dict)))\n",
    "word_dict = pickle.load(open(\"runs/10000/words_dict.p\", \"rb\"))\n",
    "print(\"size of word vocabulary (train): {}\".format(len(word_dict)))\n",
    "chars_dict = pickle.load(open(\"runs/10000/chars_dict.p\", \"rb\"))\n",
    "\n",
    "# train\n",
    "urls_train, labels_train = read_data(\"train_10000.txt\")\n",
    "x, word_reverse_dict = get_word_vocab(urls_train, 200) \n",
    "word_x_train = get_words(x, word_reverse_dict, 1, urls_train)\n",
    "ngramed_id_x_train, worded_id_x_train = ngram_id_x_from_dict(word_x_train, 20, ngram_dict, word_dict) \n",
    "chared_id_x_train = char_id_x(urls_train, chars_dict, 200)\n",
    "print(\"Number of training urls: {}\".format(len(labels_train)))\n",
    "\n",
    "\n",
    "# test\n",
    "urls, labels = read_data(\"val_10000.txt\")\n",
    "x, word_reverse_dict = get_word_vocab(urls, 200) \n",
    "word_x = get_words(x, word_reverse_dict, 1, urls) \n",
    "ngramed_id_x, worded_id_x = ngram_id_x_from_dict(word_x, 20, ngram_dict, word_dict) \n",
    "chared_id_x = char_id_x(urls, chars_dict, 200)\n",
    "print(\"Number of testing urls: {}\".format(len(labels)))"
   ]
  },
  {
   "cell_type": "markdown",
   "metadata": {},
   "source": [
    "# word"
   ]
  },
  {
   "cell_type": "code",
   "execution_count": 7,
   "metadata": {},
   "outputs": [
    {
     "name": "stderr",
     "output_type": "stream",
     "text": [
      "100%|██████████| 16090/16090 [11:19<00:00, 23.69it/s]\n"
     ]
    }
   ],
   "source": [
    "df_tmp = train_df.copy()\n",
    "df_tmp['tokenized_list'] = word_x_train\n",
    "word_mal_ratio = dict()\n",
    "\n",
    "for word in tqdm(word_dict):\n",
    "    df_tmp['exist'] = df_tmp['tokenized_list'].apply(lambda x:word in x)\n",
    "    cnt = len(df_tmp.query('exist == True & label == 0'))\n",
    "    word_mal_ratio[word] = cnt / df_tmp.exist.sum()"
   ]
  },
  {
   "cell_type": "code",
   "execution_count": 8,
   "metadata": {},
   "outputs": [
    {
     "data": {
      "text/plain": [
       "<matplotlib.axes._subplots.AxesSubplot at 0x7ff821d9a048>"
      ]
     },
     "execution_count": 8,
     "metadata": {},
     "output_type": "execute_result"
    },
    {
     "data": {
      "image/png": "[encoded data removed]",
      "text/plain": [
       "<matplotlib.figure.Figure at 0x7ff8c109ad68>"
      ]
     },
     "metadata": {
      "needs_background": "light"
     },
     "output_type": "display_data"
    }
   ],
   "source": [
    "tmp = [word_mal_ratio[i] for i in word_mal_ratio]\n",
    "tmp = pd.DataFrame({'word_mal_ratio':tmp, 'word':[i for i in word_mal_ratio]})\n",
    "tmp.plot(kind='hist')"
   ]
  },
  {
   "cell_type": "code",
   "execution_count": 9,
   "metadata": {},
   "outputs": [],
   "source": [
    "tmp.to_csv('word_mal_ratio.csv', index=False)"
   ]
  },
  {
   "cell_type": "code",
   "execution_count": 10,
   "metadata": {},
   "outputs": [
    {
     "name": "stderr",
     "output_type": "stream",
     "text": [
      "100%|██████████| 16090/16090 [00:00<00:00, 606749.78it/s]\n"
     ]
    }
   ],
   "source": [
    "word_need_eliminate = set()\n",
    "for word in tqdm(word_mal_ratio):\n",
    "    ratio = word_mal_ratio[word]\n",
    "    if ratio > 0.7 or ratio < 0.3:\n",
    "        word_need_eliminate.add(word)"
   ]
  },
  {
   "cell_type": "code",
   "execution_count": 11,
   "metadata": {},
   "outputs": [
    {
     "data": {
      "text/plain": [
       "(15034, 16090)"
      ]
     },
     "execution_count": 11,
     "metadata": {},
     "output_type": "execute_result"
    }
   ],
   "source": [
    "len(word_need_eliminate), len(word_mal_ratio)"
   ]
  },
  {
   "cell_type": "code",
   "execution_count": 12,
   "metadata": {},
   "outputs": [
    {
     "data": {
      "text/plain": [
       "15977"
      ]
     },
     "execution_count": 12,
     "metadata": {},
     "output_type": "execute_result"
    }
   ],
   "source": [
    "word_dict['<UNKNOWN>']"
   ]
  },
  {
   "cell_type": "code",
   "execution_count": 17,
   "metadata": {},
   "outputs": [
    {
     "data": {
      "text/plain": [
       "13777"
      ]
     },
     "execution_count": 17,
     "metadata": {},
     "output_type": "execute_result"
    }
   ],
   "source": [
    "word_dict['http']"
   ]
  },
  {
   "cell_type": "code",
   "execution_count": 13,
   "metadata": {},
   "outputs": [],
   "source": [
    "char_reverse_dict = {chars_dict[key]:key for key in chars_dict}\n",
    "word_reverse_dict = {word_dict[key]:key for key in word_dict}"
   ]
  },
  {
   "cell_type": "code",
   "execution_count": 14,
   "metadata": {},
   "outputs": [
    {
     "name": "stderr",
     "output_type": "stream",
     "text": [
      "2624it [00:00, 77027.03it/s]\n",
      "49850it [00:00, 51137.69it/s]\n"
     ]
    }
   ],
   "source": [
    "unbias_worded_id_x = worded_id_x.copy()\n",
    "unbias_worded_id_x_train = worded_id_x_train.copy()\n",
    "\n",
    "for e, token_list in tqdm(enumerate(unbias_worded_id_x)):\n",
    "    tmp = []\n",
    "    for tokenId in token_list:\n",
    "        token = word_reverse_dict[tokenId]\n",
    "        if token in word_need_eliminate:\n",
    "            tmp.append('<UNKNOWN>')\n",
    "        else:\n",
    "            tmp.append(token)\n",
    "    unbias_worded_id_x[e] = tmp\n",
    "    \n",
    "for e, token_list in tqdm(enumerate(unbias_worded_id_x_train)):\n",
    "    tmp = []\n",
    "    for tokenId in token_list:\n",
    "        token = word_reverse_dict[tokenId]\n",
    "        if token in word_need_eliminate:\n",
    "            tmp.append('<UNKNOWN>')\n",
    "        else:\n",
    "            tmp.append(token)\n",
    "    unbias_worded_id_x_train[e] = tmp"
   ]
  },
  {
   "cell_type": "code",
   "execution_count": 18,
   "metadata": {},
   "outputs": [
    {
     "name": "stdout",
     "output_type": "stream",
     "text": [
      "['http', ':', '/', '/', '<UNKNOWN>', '.', '<UNKNOWN>', '.', '<UNKNOWN>', '/', '/', '<UNKNOWN>', '/', '<UNKNOWN>', '/', '<UNKNOWN>', '/', '<UNKNOWN>', '.', 'html']\n",
      "['http', ':', '/', '/', 'samapi', '.', 'co', '.', 'th', '/', '/', 'php', '/', 'cache', '/', 'AOLUPDATE', '/', 'aol', '.', 'html']\n",
      "\n",
      "['<UNKNOWN>', ':', '/', '/', '<UNKNOWN>', '.', 'com', '/', 'Go']\n",
      "['https', ':', '/', '/', '<UNKNOWN>', '.', 'com', '/', 'Go']\n",
      "\n",
      "['<UNKNOWN>', ':', '/', '/', '<UNKNOWN>', '.', '<UNKNOWN>', '.', '<UNKNOWN>', '/', '<UNKNOWN>', '/', '<UNKNOWN>', '.', '<UNKNOWN>', '/', '<UNKNOWN>', '/', '<UNKNOWN>', '/', '<UNKNOWN>', '/', '<UNKNOWN>', '/', '<UNKNOWN>', '.', '<UNKNOWN>']\n",
      "['https', ':', '/', '/', 'www', '.', '<UNKNOWN>', '.', 'it', '/', 'mambots', '/', 'paypal', '.', 'fr', '/', 'us', '/', 'cgi-bin', '/', 'webscr', '/', '_login', '/', 'index', '.', 'php']\n",
      "\n",
      "['http', ':', '/', '/', '<UNKNOWN>', '.', '<UNKNOWN>', '.', 'com', '/', '<UNKNOWN>', '?']\n",
      "['http', ':', '/', '/', '153284594738391', '.', 'statictab', '.', 'com', '/', '2506080', '?']\n",
      "\n",
      "['http', ':', '/', '/', '<UNKNOWN>', '.', 'com', '/', '<UNKNOWN>', '/', '<UNKNOWN>', '/', '<UNKNOWN>', '/', '?', '<UNKNOWN>', '<UNKNOWN>', '=', '<UNKNOWN>', '.', '<UNKNOWN>', '@', '<UNKNOWN>', '.', 'com']\n",
      "['http', ':', '/', '/', 'dr-ahmed-moussa', '.', 'com', '/', 'wp-content', '/', 'upgrade', '/', 'webapp', '/', '?', 'email', '\\\\', '=', '<UNKNOWN>', '.', '<UNKNOWN>', '@', '<UNKNOWN>', '.', 'com']\n",
      "\n"
     ]
    }
   ],
   "source": [
    "for i, ii in zip(unbias_worded_id_x_train[:5], worded_id_x_train[:5]):\n",
    "    print([j for j in i])\n",
    "    print([word_reverse_dict[j] for j in ii])\n",
    "    print()"
   ]
  },
  {
   "cell_type": "code",
   "execution_count": 19,
   "metadata": {},
   "outputs": [],
   "source": [
    "with open(\"unbias_worded_id_x_train.pkl\", \"wb\") as f:\n",
    "    pickle.dump(unbias_worded_id_x_train, f)\n",
    "\n",
    "with open(\"unbias_worded_id_x.pkl\", \"wb\") as f:\n",
    "    pickle.dump(unbias_worded_id_x, f)"
   ]
  },
  {
   "cell_type": "code",
   "execution_count": 61,
   "metadata": {},
   "outputs": [
    {
     "data": {
      "text/plain": [
       "(658, 49850)"
      ]
     },
     "execution_count": 61,
     "metadata": {},
     "output_type": "execute_result"
    }
   ],
   "source": [
    "# url withour bias token -> very few\n",
    "tmp = word_need_eliminate-set(['https'])\n",
    "df_tmp['drop'] = df_tmp['tokenized_list'].apply(lambda x: len(set(x) & tmp)>0)\n",
    "len(df_tmp[df_tmp['drop'] != True]), len(df_tmp)"
   ]
  },
  {
   "cell_type": "markdown",
   "metadata": {},
   "source": [
    "# char"
   ]
  },
  {
   "cell_type": "code",
   "execution_count": 20,
   "metadata": {},
   "outputs": [
    {
     "name": "stderr",
     "output_type": "stream",
     "text": [
      "100%|██████████| 131/131 [00:15<00:00,  8.29it/s]\n"
     ]
    }
   ],
   "source": [
    "df_tmp2 = train_df.copy()\n",
    "df_tmp2['tokenized_list'] = df_tmp2.url.apply(lambda x:list(x))\n",
    "char_mal_ratio = dict()\n",
    "\n",
    "for word in tqdm(chars_dict):\n",
    "    df_tmp2['exist'] = df_tmp2['tokenized_list'].apply(lambda x:word in x)\n",
    "    cnt = len(df_tmp2.query('exist == True & label == 0'))\n",
    "    char_mal_ratio[word] = cnt / df_tmp2.exist.sum()"
   ]
  },
  {
   "cell_type": "code",
   "execution_count": 21,
   "metadata": {},
   "outputs": [
    {
     "data": {
      "text/plain": [
       "<matplotlib.axes._subplots.AxesSubplot at 0x7ff821e74d68>"
      ]
     },
     "execution_count": 21,
     "metadata": {},
     "output_type": "execute_result"
    },
    {
     "data": {
      "image/png": "[encoded data removed]",
      "text/plain": [
       "<matplotlib.figure.Figure at 0x7ff8c109a668>"
      ]
     },
     "metadata": {
      "needs_background": "light"
     },
     "output_type": "display_data"
    }
   ],
   "source": [
    "tmp2 = [char_mal_ratio[i] for i in char_mal_ratio]\n",
    "tmp2 = pd.DataFrame({'char_mal_ratio':tmp2, 'char':[i for i in char_mal_ratio]})\n",
    "tmp2.plot(kind='hist')"
   ]
  },
  {
   "cell_type": "code",
   "execution_count": 22,
   "metadata": {},
   "outputs": [],
   "source": [
    "tmp2.to_csv('char_mal_ratio.csv', index=False)"
   ]
  },
  {
   "cell_type": "code",
   "execution_count": 23,
   "metadata": {},
   "outputs": [
    {
     "name": "stderr",
     "output_type": "stream",
     "text": [
      "100%|██████████| 131/131 [00:00<00:00, 216405.60it/s]\n"
     ]
    }
   ],
   "source": [
    "char_need_eliminate = set()\n",
    "for char in tqdm(char_mal_ratio):\n",
    "    ratio = char_mal_ratio[char]\n",
    "    if ratio > 0.7 or ratio < 0.3:\n",
    "        char_need_eliminate.add(char)"
   ]
  },
  {
   "cell_type": "code",
   "execution_count": 24,
   "metadata": {},
   "outputs": [
    {
     "data": {
      "text/plain": [
       "(60, 131)"
      ]
     },
     "execution_count": 24,
     "metadata": {},
     "output_type": "execute_result"
    }
   ],
   "source": [
    "len(char_need_eliminate), len(char_mal_ratio)"
   ]
  },
  {
   "cell_type": "code",
   "execution_count": 25,
   "metadata": {},
   "outputs": [
    {
     "name": "stderr",
     "output_type": "stream",
     "text": [
      "2624it [00:00, 27106.34it/s]\n",
      "49850it [00:01, 27150.69it/s]\n"
     ]
    }
   ],
   "source": [
    "unbias_chared_id_x = chared_id_x.copy()\n",
    "unbias_chared_id_x_train = chared_id_x_train.copy()\n",
    "\n",
    "for e, token_list in tqdm(enumerate(unbias_chared_id_x)):\n",
    "    tmp = []\n",
    "    for tokenId in token_list:\n",
    "        token = char_reverse_dict[tokenId]\n",
    "        if token in word_need_eliminate:\n",
    "            tmp.append('<UNKNOWN>')\n",
    "        else:\n",
    "            tmp.append(token)\n",
    "    unbias_chared_id_x[e] = tmp\n",
    "    \n",
    "for e, token_list in tqdm(enumerate(unbias_chared_id_x_train)):\n",
    "    tmp = []\n",
    "    for tokenId in token_list:\n",
    "        token = char_reverse_dict[tokenId]\n",
    "        if token in word_need_eliminate:\n",
    "            tmp.append('<UNKNOWN>')\n",
    "        else:\n",
    "            tmp.append(token)\n",
    "    unbias_chared_id_x_train[e] = tmp"
   ]
  },
  {
   "cell_type": "code",
   "execution_count": 26,
   "metadata": {},
   "outputs": [],
   "source": [
    "with open(\"unbias_chared_id_x_train.pkl\", \"wb\") as f:\n",
    "    pickle.dump(unbias_chared_id_x_train, f)\n",
    "\n",
    "with open(\"unbias_chared_id_x.pkl\", \"wb\") as f:\n",
    "    pickle.dump(unbias_chared_id_x, f)"
   ]
  },
  {
   "cell_type": "code",
   "execution_count": 27,
   "metadata": {},
   "outputs": [],
   "source": [
    "with open(\"word_mal_ratio.pkl\", \"wb\") as f:\n",
    "    pickle.dump(word_mal_ratio, f)\n",
    "\n",
    "with open(\"char_mal_ratio.pkl\", \"wb\") as f:\n",
    "    pickle.dump(char_mal_ratio, f)"
   ]
  },
  {
   "cell_type": "markdown",
   "metadata": {},
   "source": [
    "### stored pickle and csv files\n",
    "\n",
    "#### csv\n",
    "* train_bias.csv     : bias of most critical word in explanation train set\n",
    "* test_bias.csv      : bias of most critical word in explanation test set\n",
    "* char_mal_ratio.csv : ratio of each char\n",
    "* word_mal_ratio.csv : ratio of each word\n",
    "\n",
    "#### pickle\n",
    "* unbias_worded_id_x_train.pkl  : unbias worded_id_x_train\n",
    "* unbias_worded_id_x.pkl        : unbias worded_id_x\n",
    "* unbias_chared_id_x_train.pkl  : unbias chared_id_x_train\n",
    "* unbias_chared_id_x.pkl        : unbias chared_id_x\n",
    "* char_mal_ratio\n",
    "* word_mal_ratio"
   ]
  },
  {
   "cell_type": "markdown",
   "metadata": {},
   "source": [
    "## Detail of each variable\n",
    "\n",
    "* ngram_dict = chars 2 idx -> dict\n",
    "* word_dict = word 2 idx -> dict\n",
    "* char_dict = chars 2 idx -> dict (same as ngram_dict)\n",
    "\n",
    "\n",
    "1. x, reverse_dict = get_word_vocab(urls, FLAGS[\"data.max_len_words\"])\n",
    "    Use tflearn.VocabularyProcessor\n",
    "    x = tokenized and transformed url -> ndarray\n",
    "    word_reverse_dict -> dict\n",
    "   \n",
    "   \n",
    "2. word_x = get_words(x, word_reverse_dict, FLAGS[\"data.delimit_mode\"], urls)\n",
    "    word_x = tokenized url -> ndarray\n",
    "    \n",
    "3. \n",
    "    * train\n",
    "\n",
    "    ngramed_id_x, ngrams_dict, worded_id_x, words_dict = ngram_id_x(word_x, FLAGS[\"data.max_len_subwords\"], high_freq_words)\n",
    "\n",
    "    * test\n",
    "    \n",
    "    ngramed_id_x_train, worded_id_x_train = ngram_id_x_from_dict(word_x_train, 20, ngram_dict, word_dict) \n",
    "    \n",
    "    \n",
    "    ngramed_x_id = transformed char-level-word url -> list[list[list]]\n",
    "    worded_x_id = transformed word url -> list[list]\n",
    "    \n",
    "    \n",
    "4. chared_id_x = char_id_x\n",
    "    chared_id_x = transformed char url -> list[list]\n",
    "\n",
    "* word_dict is obtained from ngram_id_x\n",
    "* x, word_reverse_dict -> only help tokenize"
   ]
  },
  {
   "cell_type": "code",
   "execution_count": null,
   "metadata": {},
   "outputs": [],
   "source": []
  }
 ],
 "metadata": {
  "kernelspec": {
   "display_name": "Python 3",
   "language": "python",
   "name": "python3"
  },
  "language_info": {
   "codemirror_mode": {
    "name": "ipython",
    "version": 3
   },
   "file_extension": ".py",
   "mimetype": "text/x-python",
   "name": "python",
   "nbconvert_exporter": "python",
   "pygments_lexer": "ipython3",
   "version": "3.5.2"
  }
 },
 "nbformat": 4,
 "nbformat_minor": 2
}
