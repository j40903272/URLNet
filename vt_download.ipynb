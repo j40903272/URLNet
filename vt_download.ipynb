{
 "cells": [
  {
   "cell_type": "code",
   "execution_count": null,
   "metadata": {},
   "outputs": [],
   "source": [
    "import numpy as np\n",
    "import pandas as pd"
   ]
  },
  {
   "cell_type": "code",
   "execution_count": 5,
   "metadata": {},
   "outputs": [],
   "source": [
    "train_df = pd.read_csv(\"train_10000.txt\", header=None)\n",
    "test_df = pd.read_csv(\"test_10000.txt\", header=None)\n",
    "\n",
    "train_df.columns = test_df.columns = [\"label\", \"url\"]"
   ]
  },
  {
   "cell_type": "raw",
   "metadata": {},
   "source": [
    "with open(\"train_10000.txt\", \"w\", encoding=\"utf-8\") as f:\n",
    "    cnt = 0\n",
    "    for i in black[1:split]:\n",
    "        print(('0,'+i[0]).strip(), file=f)\n",
    "        cnt += 1\n",
    "    for i in white[1:split]:\n",
    "        print(('1,'+i[0]).strip(), file=f)\n",
    "        cnt += 1\n",
    "\n",
    "with open(\"test_10000.txt\", \"w\", encoding=\"utf-8\") as f:\n",
    "    for i in black[split:total]:\n",
    "        print(('0,'+i[0]).strip(), file=f)\n",
    "    for i in white[split:total]:\n",
    "        print(('1,'+i[0]).strip(), file=f)"
   ]
  },
  {
   "cell_type": "code",
   "execution_count": 6,
   "metadata": {},
   "outputs": [],
   "source": [
    "import requests\n",
    "import time\n",
    "from tqdm import tqdm\n",
    "url = 'https://www.virustotal.com/vtapi/v2/url/report'\n",
    "apikey = \"e871f51212bd7cc4b3580aa7a4668776988b67b7006f97b3b6ba8093a3c7c212\""
   ]
  },
  {
   "cell_type": "code",
   "execution_count": 7,
   "metadata": {},
   "outputs": [],
   "source": [
    "train_vt_json_response = {}\n",
    "test_vt_json_response = {}"
   ]
  },
  {
   "cell_type": "code",
   "execution_count": 8,
   "metadata": {},
   "outputs": [
    {
     "name": "stdout",
     "output_type": "stream",
     "text": [
      "54556 1992\n"
     ]
    }
   ],
   "source": [
    "import pickle\n",
    "with open(\"train_vt_response.pkl\", \"rb\") as f:\n",
    "    train_vt_json_response = pickle.load(f)\n",
    "with open(\"test_vt_response.pkl\", \"rb\") as f:\n",
    "    test_vt_json_response = pickle.load(f)\n",
    "\n",
    "print(len(train_vt_json_response), len(test_vt_json_response))"
   ]
  },
  {
   "cell_type": "code",
   "execution_count": 11,
   "metadata": {},
   "outputs": [
    {
     "name": "stderr",
     "output_type": "stream",
     "text": [
      "100%|██████████| 49850/49850 [00:00<00:00, 741187.59it/s]\n"
     ]
    }
   ],
   "source": [
    "for i in tqdm(train_df.url.values):\n",
    "    if i not in train_vt_json_response:\n",
    "        try:\n",
    "            while True:\n",
    "                params = {'apikey': apikey, 'resource':i, 'allinfo':True, \"scan\":1}\n",
    "                response = requests.get(url, params=params)\n",
    "                if response.status_code == 204:\n",
    "                    time.sleep(1)\n",
    "                else:\n",
    "                    break\n",
    "            train_vt_json_response[i] = response.json()\n",
    "        except KeyboardInterrupt:\n",
    "            break"
   ]
  },
  {
   "cell_type": "code",
   "execution_count": 9,
   "metadata": {},
   "outputs": [
    {
     "name": "stderr",
     "output_type": "stream",
     "text": [
      "100%|██████████| 2624/2624 [02:52<00:00, 15.24it/s]\n"
     ]
    }
   ],
   "source": [
    "for i in tqdm(test_df.url.values):\n",
    "    if i not in test_vt_json_response:\n",
    "        try:\n",
    "            while True:\n",
    "                params = {'apikey': apikey, 'resource':i, 'allinfo':True, \"scan\":1}\n",
    "                response = requests.get(url, params=params)\n",
    "                if response.status_code == 204:\n",
    "                    time.sleep(1)\n",
    "                else:\n",
    "                    break\n",
    "            test_vt_json_response[i] = response.json()\n",
    "        except KeyboardInterrupt:\n",
    "            break"
   ]
  },
  {
   "cell_type": "code",
   "execution_count": 12,
   "metadata": {},
   "outputs": [
    {
     "data": {
      "text/plain": [
       "(54556, 2624)"
      ]
     },
     "execution_count": 12,
     "metadata": {},
     "output_type": "execute_result"
    }
   ],
   "source": [
    "len(train_vt_json_response), len(test_vt_json_response)"
   ]
  },
  {
   "cell_type": "code",
   "execution_count": 13,
   "metadata": {},
   "outputs": [],
   "source": [
    "import pickle\n",
    "with open(\"train_vt_response.pkl\", \"wb\") as f:\n",
    "    pickle.dump(train_vt_json_response, f)\n",
    "with open(\"test_vt_response.pkl\", \"wb\") as f:\n",
    "    pickle.dump(test_vt_json_response, f)"
   ]
  }
 ],
 "metadata": {
  "kernelspec": {
   "display_name": "Python 3",
   "language": "python",
   "name": "python3"
  },
  "language_info": {
   "codemirror_mode": {
    "name": "ipython",
    "version": 3
   },
   "file_extension": ".py",
   "mimetype": "text/x-python",
   "name": "python",
   "nbconvert_exporter": "python",
   "pygments_lexer": "ipython3",
   "version": "3.5.2"
  }
 },
 "nbformat": 4,
 "nbformat_minor": 4
}
