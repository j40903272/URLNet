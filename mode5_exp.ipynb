{
 "cells": [
  {
   "cell_type": "code",
   "execution_count": 1,
   "metadata": {},
   "outputs": [],
   "source": [
    "import os, sys\n",
    "import itertools\n",
    "import subprocess"
   ]
  },
  {
   "cell_type": "code",
   "execution_count": 2,
   "metadata": {},
   "outputs": [],
   "source": [
    "mode = [5]\n",
    "size = [0.1, 0.5, 0.9]\n",
    "data = [\"train_10000.txt\", \"val_10000.txt\", \"../taipei/out.csv\"]\n",
    "n_total = 2*4*3"
   ]
  },
  {
   "cell_type": "raw",
   "metadata": {},
   "source": [
    "model.emb_mode\n",
    "log.checkpoint_dir\n",
    "data.data_dir\n",
    "log.output_dir"
   ]
  },
  {
   "cell_type": "code",
   "execution_count": 5,
   "metadata": {},
   "outputs": [
    {
     "name": "stdout",
     "output_type": "stream",
     "text": [
      "['python3', 'train.py', '--model.emb_mode', '5', '--log.output_dir', 'runs/10000_com_1/', '--data.dev_pct', '0.1', '--data.data_dir', 'train_10000.txt']\n",
      "['python3', 'train.py', '--model.emb_mode', '5', '--log.output_dir', 'runs/10000_com_5/', '--data.dev_pct', '0.5', '--data.data_dir', 'train_10000.txt']\n",
      "['python3', 'train.py', '--model.emb_mode', '5', '--log.output_dir', 'runs/10000_com_9/', '--data.dev_pct', '0.9', '--data.data_dir', 'train_10000.txt']\n"
     ]
    }
   ],
   "source": [
    "# train\n",
    "train_meta = []\n",
    "for i, j in itertools.product(mode, size):\n",
    "    path = \"runs/10000_{}_{}/\".format(\"com\", int(j*10))\n",
    "    if os.path.isfile(path+\"dada_train\"):\n",
    "        continue\n",
    "    command = [\"python3\", \"train.py\"]\n",
    "    command += [\"--model.emb_mode\", str(i)]\n",
    "    command += [\"--log.output_dir\", path]\n",
    "    command += [\"--data.dev_pct\", str(j)]\n",
    "    command += [\"--data.data_dir\", \"train_10000.txt\"]\n",
    "    print(command)\n",
    "\n",
    "    process = subprocess.run(command, check=True, stdout=subprocess.PIPE)\n",
    "    stdout = process.stdout.decode('utf-8')\n",
    "    #stdout = subprocess.check_output(command).decode('utf-8')\n",
    "    train_meta.append({\"cmd\":command, \"stdout\":stdout, \"emb_mode\":i, \"dev_pct\":j, \"path\":path})\n",
    "    subprocess.call([\"touch\", path+\"dada_train\"])"
   ]
  },
  {
   "cell_type": "raw",
   "metadata": {},
   "source": [
    "--data.subword_dict_dir runs/10000/subwords_dict.p\n",
    "--data.word_dict_dir runs/10000/words_dict.p\n",
    "--data.char_dict_dir runs/10000/chars_dict.p"
   ]
  },
  {
   "cell_type": "code",
   "execution_count": 6,
   "metadata": {},
   "outputs": [
    {
     "name": "stdout",
     "output_type": "stream",
     "text": [
      "['python3', 'test.py', '--model.emb_mode', '5', '--log.output_dir', 'runs/10000_com_1/', '--data.data_dir', 'train_10000.txt', '--log.checkpoint_dir', 'runs/10000_com_1/checkpoints', '--data.subword_dict_dir', 'runs/10000_com_1/subwords_dict.p', '--data.word_dict_dir', 'runs/10000_com_1/words_dict.p', '--data.char_dict_dir', 'runs/10000_com_1/chars_dict.p']\n",
      "Accuracy: 0.9991741837123619\n",
      "\n",
      "['python3', 'test.py', '--model.emb_mode', '5', '--log.output_dir', 'runs/10000_com_1/', '--data.data_dir', 'val_10000.txt', '--log.checkpoint_dir', 'runs/10000_com_1/checkpoints', '--data.subword_dict_dir', 'runs/10000_com_1/subwords_dict.p', '--data.word_dict_dir', 'runs/10000_com_1/words_dict.p', '--data.char_dict_dir', 'runs/10000_com_1/chars_dict.p']\n",
      "Accuracy: 0.9946646341463414\n",
      "\n",
      "['python3', 'test.py', '--model.emb_mode', '5', '--log.output_dir', 'runs/10000_com_1/', '--data.data_dir', '../taipei/out.csv', '--log.checkpoint_dir', 'runs/10000_com_1/checkpoints', '--data.subword_dict_dir', 'runs/10000_com_1/subwords_dict.p', '--data.word_dict_dir', 'runs/10000_com_1/words_dict.p', '--data.char_dict_dir', 'runs/10000_com_1/chars_dict.p']\n",
      "Accuracy: 0.310458654763249\n",
      "\n",
      "['python3', 'test.py', '--model.emb_mode', '5', '--log.output_dir', 'runs/10000_com_5/', '--data.data_dir', 'train_10000.txt', '--log.checkpoint_dir', 'runs/10000_com_5/checkpoints', '--data.subword_dict_dir', 'runs/10000_com_5/subwords_dict.p', '--data.word_dict_dir', 'runs/10000_com_5/words_dict.p', '--data.char_dict_dir', 'runs/10000_com_5/chars_dict.p']\n",
      "Accuracy: 0.9943039850929573\n",
      "\n",
      "['python3', 'test.py', '--model.emb_mode', '5', '--log.output_dir', 'runs/10000_com_5/', '--data.data_dir', 'val_10000.txt', '--log.checkpoint_dir', 'runs/10000_com_5/checkpoints', '--data.subword_dict_dir', 'runs/10000_com_5/subwords_dict.p', '--data.word_dict_dir', 'runs/10000_com_5/words_dict.p', '--data.char_dict_dir', 'runs/10000_com_5/chars_dict.p']\n",
      "Accuracy: 0.9900914634146342\n",
      "\n",
      "['python3', 'test.py', '--model.emb_mode', '5', '--log.output_dir', 'runs/10000_com_5/', '--data.data_dir', '../taipei/out.csv', '--log.checkpoint_dir', 'runs/10000_com_5/checkpoints', '--data.subword_dict_dir', 'runs/10000_com_5/subwords_dict.p', '--data.word_dict_dir', 'runs/10000_com_5/words_dict.p', '--data.char_dict_dir', 'runs/10000_com_5/chars_dict.p']\n",
      "Accuracy: 0.4138319571207888\n",
      "\n",
      "['python3', 'test.py', '--model.emb_mode', '5', '--log.output_dir', 'runs/10000_com_9/', '--data.data_dir', 'train_10000.txt', '--log.checkpoint_dir', 'runs/10000_com_9/checkpoints', '--data.subword_dict_dir', 'runs/10000_com_9/subwords_dict.p', '--data.word_dict_dir', 'runs/10000_com_9/words_dict.p', '--data.char_dict_dir', 'runs/10000_com_9/chars_dict.p']\n",
      "Accuracy: 0.9541566086477787\n",
      "\n",
      "['python3', 'test.py', '--model.emb_mode', '5', '--log.output_dir', 'runs/10000_com_9/', '--data.data_dir', 'val_10000.txt', '--log.checkpoint_dir', 'runs/10000_com_9/checkpoints', '--data.subword_dict_dir', 'runs/10000_com_9/subwords_dict.p', '--data.word_dict_dir', 'runs/10000_com_9/words_dict.p', '--data.char_dict_dir', 'runs/10000_com_9/chars_dict.p']\n",
      "Accuracy: 0.9561737804878049\n",
      "\n",
      "['python3', 'test.py', '--model.emb_mode', '5', '--log.output_dir', 'runs/10000_com_9/', '--data.data_dir', '../taipei/out.csv', '--log.checkpoint_dir', 'runs/10000_com_9/checkpoints', '--data.subword_dict_dir', 'runs/10000_com_9/subwords_dict.p', '--data.word_dict_dir', 'runs/10000_com_9/words_dict.p', '--data.char_dict_dir', 'runs/10000_com_9/chars_dict.p']\n",
      "Accuracy: 0.3366431305091546\n",
      "\n"
     ]
    }
   ],
   "source": [
    "# test\n",
    "test_meta = []\n",
    "for i, j, k in itertools.product(mode, size, data):\n",
    "    path = \"runs/10000_{}_{}/\".format(\"com\", int(j*10))\n",
    "    checkpoint = path + \"checkpoints\"\n",
    "    subword_dict = path + \"subwords_dict.p\"\n",
    "    word_dict = path + \"words_dict.p\"\n",
    "    char_dict = path + \"chars_dict.p\"\n",
    "    \n",
    "    if os.path.isfile(path+\"dada_test_\"+k):\n",
    "        continue\n",
    "    command = [\"python3\", \"test.py\"]\n",
    "    command += [\"--model.emb_mode\", str(i)]\n",
    "    command += [\"--log.output_dir\", path]\n",
    "    command += [\"--data.data_dir\", k]\n",
    "    command += [\"--log.checkpoint_dir\", checkpoint]\n",
    "    command += [\"--data.subword_dict_dir\", subword_dict]\n",
    "    command += [\"--data.word_dict_dir\", word_dict]\n",
    "    command += [\"--data.char_dict_dir\", char_dict]\n",
    "    print(command)\n",
    "\n",
    "    process = subprocess.run(command, check=True, stdout=subprocess.PIPE)\n",
    "    stdout = process.stdout.decode('utf-8')\n",
    "    print(stdout.split('\\n')[-2])\n",
    "    print()\n",
    "    test_meta.append({\"cmd\":command, \"stdout\":stdout, \"emb_mode\":i, \"data\":k, \"path\":path, \"dev_pct\":j})\n",
    "    subprocess.call([\"touch\", path+\"dada_test_\"+k])"
   ]
  },
  {
   "cell_type": "code",
   "execution_count": 7,
   "metadata": {},
   "outputs": [
    {
     "name": "stdout",
     "output_type": "stream",
     "text": [
      "['python3', 'test.py', '--model.emb_mode', '5', '--log.output_dir', 'runs/10000_com_1/', '--data.data_dir', 'test_10000.txt', '--log.checkpoint_dir', 'runs/10000_com_1/checkpoints', '--data.subword_dict_dir', 'runs/10000_com_1/subwords_dict.p', '--data.word_dict_dir', 'runs/10000_com_1/words_dict.p', '--data.char_dict_dir', 'runs/10000_com_1/chars_dict.p']\n",
      "Accuracy: 0.9427852532545673\n",
      "\n",
      "['python3', 'test.py', '--model.emb_mode', '5', '--log.output_dir', 'runs/10000_com_5/', '--data.data_dir', 'test_10000.txt', '--log.checkpoint_dir', 'runs/10000_com_5/checkpoints', '--data.subword_dict_dir', 'runs/10000_com_5/subwords_dict.p', '--data.word_dict_dir', 'runs/10000_com_5/words_dict.p', '--data.char_dict_dir', 'runs/10000_com_5/chars_dict.p']\n",
      "Accuracy: 0.8537359151077563\n",
      "\n",
      "['python3', 'test.py', '--model.emb_mode', '5', '--log.output_dir', 'runs/10000_com_9/', '--data.data_dir', 'test_10000.txt', '--log.checkpoint_dir', 'runs/10000_com_9/checkpoints', '--data.subword_dict_dir', 'runs/10000_com_9/subwords_dict.p', '--data.word_dict_dir', 'runs/10000_com_9/words_dict.p', '--data.char_dict_dir', 'runs/10000_com_9/chars_dict.p']\n",
      "Accuracy: 0.7854720490099552\n",
      "\n"
     ]
    }
   ],
   "source": [
    "# test\n",
    "test_meta = []\n",
    "for i, j, k in itertools.product(mode, size, [\"test_10000.txt\"]):\n",
    "    path = \"runs/10000_{}_{}/\".format(\"com\", int(j*10))\n",
    "    checkpoint = path + \"checkpoints\"\n",
    "    subword_dict = path + \"subwords_dict.p\"\n",
    "    word_dict = path + \"words_dict.p\"\n",
    "    char_dict = path + \"chars_dict.p\"\n",
    "    \n",
    "    if os.path.isfile(path+\"dada_test_\"+k):\n",
    "        continue\n",
    "    command = [\"python3\", \"test.py\"]\n",
    "    command += [\"--model.emb_mode\", str(i)]\n",
    "    command += [\"--log.output_dir\", path]\n",
    "    command += [\"--data.data_dir\", k]\n",
    "    command += [\"--log.checkpoint_dir\", checkpoint]\n",
    "    command += [\"--data.subword_dict_dir\", subword_dict]\n",
    "    command += [\"--data.word_dict_dir\", word_dict]\n",
    "    command += [\"--data.char_dict_dir\", char_dict]\n",
    "    print(command)\n",
    "\n",
    "    process = subprocess.run(command, check=True, stdout=subprocess.PIPE)\n",
    "    stdout = process.stdout.decode('utf-8')\n",
    "    print(stdout.split('\\n')[-2])\n",
    "    print()\n",
    "    test_meta.append({\"cmd\":command, \"stdout\":stdout, \"emb_mode\":i, \"data\":k, \"path\":path, \"dev_pct\":j})\n",
    "    subprocess.call([\"touch\", path+\"dada_test_\"+k])"
   ]
  },
  {
   "cell_type": "code",
   "execution_count": 11,
   "metadata": {},
   "outputs": [
    {
     "name": "stdout",
     "output_type": "stream",
     "text": [
      "['python3', 'test.py', '--model.emb_mode', '5', '--log.output_dir', 'runs/10000_com_1/', '--data.data_dir', '../taipei/out.csv', '--log.checkpoint_dir', 'runs/10000_com_1/checkpoints', '--data.subword_dict_dir', 'runs/10000_com_1/subwords_dict.p', '--data.word_dict_dir', 'runs/10000_com_1/words_dict.p', '--data.char_dict_dir', 'runs/10000_com_1/chars_dict.p']\n",
      "Accuracy: 0.13278936276253256\n",
      "96582 1504903 1957 134152\n",
      "\n",
      "['python3', 'test.py', '--model.emb_mode', '5', '--log.output_dir', 'runs/10000_com_5/', '--data.data_dir', '../taipei/out.csv', '--log.checkpoint_dir', 'runs/10000_com_5/checkpoints', '--data.subword_dict_dir', 'runs/10000_com_5/subwords_dict.p', '--data.word_dict_dir', 'runs/10000_com_5/words_dict.p', '--data.char_dict_dir', 'runs/10000_com_5/chars_dict.p']\n",
      "Accuracy: 0.36649240271317696\n",
      "87445 1089685 11094 549370\n",
      "\n",
      "['python3', 'test.py', '--model.emb_mode', '5', '--log.output_dir', 'runs/10000_com_9/', '--data.data_dir', '../taipei/out.csv', '--log.checkpoint_dir', 'runs/10000_com_9/checkpoints', '--data.subword_dict_dir', 'runs/10000_com_9/subwords_dict.p', '--data.word_dict_dir', 'runs/10000_com_9/words_dict.p', '--data.char_dict_dir', 'runs/10000_com_9/chars_dict.p']\n",
      "Accuracy: 0.5070908394020698\n",
      "90109 848046 8430 791009\n",
      "\n"
     ]
    }
   ],
   "source": [
    "# test\n",
    "test_meta = []\n",
    "for i, j, k in itertools.product(mode, size, [\"../taipei/out.csv\"]):\n",
    "    path = \"runs/10000_{}_{}/\".format(\"com\", int(j*10))\n",
    "    checkpoint = path + \"checkpoints\"\n",
    "    subword_dict = path + \"subwords_dict.p\"\n",
    "    word_dict = path + \"words_dict.p\"\n",
    "    char_dict = path + \"chars_dict.p\"\n",
    "    \n",
    "    if os.path.isfile(path+\"dada_test2_\"+k):\n",
    "        continue\n",
    "    command = [\"python3\", \"test.py\"]\n",
    "    command += [\"--model.emb_mode\", str(i)]\n",
    "    command += [\"--log.output_dir\", path]\n",
    "    command += [\"--data.data_dir\", k]\n",
    "    command += [\"--log.checkpoint_dir\", checkpoint]\n",
    "    command += [\"--data.subword_dict_dir\", subword_dict]\n",
    "    command += [\"--data.word_dict_dir\", word_dict]\n",
    "    command += [\"--data.char_dict_dir\", char_dict]\n",
    "    print(command)\n",
    "\n",
    "    process = subprocess.run(command, check=True, stdout=subprocess.PIPE)\n",
    "    stdout = process.stdout.decode('utf-8')\n",
    "    print(stdout.split('\\n')[-3])\n",
    "    print(stdout.split('\\n')[-2])\n",
    "    print()\n",
    "    test_meta.append({\"cmd\":command, \"stdout\":stdout, \"emb_mode\":i, \"data\":k, \"path\":path, \"dev_pct\":j})\n",
    "    subprocess.call([\"touch\", path+\"dada_test_\"+k])"
   ]
  },
  {
   "cell_type": "code",
   "execution_count": null,
   "metadata": {},
   "outputs": [],
   "source": []
  }
 ],
 "metadata": {
  "kernelspec": {
   "display_name": "Python 3",
   "language": "python",
   "name": "python3"
  },
  "language_info": {
   "codemirror_mode": {
    "name": "ipython",
    "version": 3
   },
   "file_extension": ".py",
   "mimetype": "text/x-python",
   "name": "python",
   "nbconvert_exporter": "python",
   "pygments_lexer": "ipython3",
   "version": "3.5.2"
  }
 },
 "nbformat": 4,
 "nbformat_minor": 4
}
