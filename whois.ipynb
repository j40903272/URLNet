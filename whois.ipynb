{
 "cells": [
  {
   "cell_type": "raw",
   "metadata": {},
   "source": [
    "import tensorflow as tf"
   ]
  },
  {
   "cell_type": "code",
   "execution_count": 25,
   "metadata": {},
   "outputs": [],
   "source": [
    "import json\n",
    "import numpy as np\n",
    "import pandas as pd"
   ]
  },
  {
   "cell_type": "code",
   "execution_count": 12,
   "metadata": {},
   "outputs": [
    {
     "name": "stdout",
     "output_type": "stream",
     "text": [
      "49850 2624\n"
     ]
    }
   ],
   "source": [
    "train_df = pd.read_csv(\"train_10000.txt\", header=None)\n",
    "test_df = pd.read_csv(\"test_10000.txt\", header=None)\n",
    "\n",
    "train_df.columns = test_df.columns = [\"label\", \"url\"]\n",
    "print(len(train_df), len(test_df))"
   ]
  },
  {
   "cell_type": "code",
   "execution_count": 13,
   "metadata": {},
   "outputs": [],
   "source": [
    "from urllib.parse import urlparse\n",
    "import tldextract\n",
    "import requests\n",
    "import time\n",
    "from tqdm import tqdm\n",
    "url = 'https://www.virustotal.com/vtapi/v2/domain/report'\n",
    "apikey = [\"e871f51212bd7cc4b3580aa7a4668776988b67b7006f97b3b6ba8093a3c7c212\", \"5ce11f4b6fc5496fa97dc610f448146af2f8bf8397d13f7c7af2fea41651139c\"]\n",
    "apikeyidx = 0"
   ]
  },
  {
   "cell_type": "code",
   "execution_count": 14,
   "metadata": {},
   "outputs": [],
   "source": [
    "train_whois_json_response = {}\n",
    "test_whois_json_response = {}"
   ]
  },
  {
   "cell_type": "code",
   "execution_count": 15,
   "metadata": {},
   "outputs": [
    {
     "name": "stderr",
     "output_type": "stream",
     "text": [
      "100%|██████████| 49850/49850 [5:22:31<00:00,  2.58it/s]\n"
     ]
    }
   ],
   "source": [
    "cnt = 0\n",
    "for i in tqdm(train_df.url.values):\n",
    "    if i not in train_whois_json_response:\n",
    "        try:\n",
    "            while True:\n",
    "                domain = urlparse(i).netloc\n",
    "                params = {'apikey': apikey[apikeyidx%2], 'domain':domain}\n",
    "                response = requests.get(url, params=params)\n",
    "                if response.status_code == 204:\n",
    "                    cnt += 1\n",
    "                    time.sleep(1)\n",
    "                    if cnt > 100:\n",
    "                        apikeyidx += 1\n",
    "                        cnt = 0\n",
    "                else:\n",
    "                    break\n",
    "            train_whois_json_response[i] = response.json()\n",
    "        except KeyboardInterrupt:\n",
    "            break"
   ]
  },
  {
   "cell_type": "code",
   "execution_count": 16,
   "metadata": {},
   "outputs": [
    {
     "name": "stderr",
     "output_type": "stream",
     "text": [
      "100%|██████████| 2624/2624 [19:16<00:00,  2.27it/s]\n"
     ]
    }
   ],
   "source": [
    "cnt = 0\n",
    "for i in tqdm(test_df.url.values):\n",
    "    if i not in test_whois_json_response:\n",
    "        try:\n",
    "            while True:\n",
    "                domain = urlparse(i).netloc\n",
    "                params = {'apikey': apikey[apikeyidx%2], 'domain':domain}\n",
    "                response = requests.get(url, params=params)\n",
    "                if response.status_code == 204:\n",
    "                    cnt += 1\n",
    "                    time.sleep(1)\n",
    "                    if cnt > 100:\n",
    "                        apikeyidx += 1\n",
    "                        cnt = 0\n",
    "                else:\n",
    "                    break\n",
    "            test_whois_json_response[i] = response.json()\n",
    "        except KeyboardInterrupt:\n",
    "            break"
   ]
  },
  {
   "cell_type": "code",
   "execution_count": 18,
   "metadata": {},
   "outputs": [
    {
     "data": {
      "text/plain": [
       "(49846, 2624)"
      ]
     },
     "execution_count": 18,
     "metadata": {},
     "output_type": "execute_result"
    }
   ],
   "source": [
    "len(train_whois_json_response), len(test_whois_json_response)"
   ]
  },
  {
   "cell_type": "raw",
   "metadata": {},
   "source": [
    "import pickle\n",
    "with open(\"train_whois_response.pkl\", \"wb\") as f:\n",
    "    pickle.dump(train_whois_json_response, f)\n",
    "with open(\"test_whois_response.pkl\", \"wb\") as f:\n",
    "    pickle.dump(test_whois_json_response, f)"
   ]
  },
  {
   "cell_type": "code",
   "execution_count": 97,
   "metadata": {},
   "outputs": [
    {
     "name": "stdout",
     "output_type": "stream",
     "text": [
      "[('domain name', 38692), ('dnssec', 38208), ('registrar', 37332), ('name server', 36466), ('domain status', 35776), ('creation date', 35225), ('updated date', 35147), ('registrar url', 34840), ('registry domain id', 34743), ('registrar iana id', 34429), ('registrar whois server', 34116), ('registry expiry date', 33753), ('registrar abuse contact email', 33617), ('registrar abuse contact phone', 33598), ('registrant country', 30592), ('registrar registration expiration date', 29620), ('registrant state/province', 26958), ('registrant organization', 26521), ('registrant email', 25298), ('tech country', 23260), ('admin country', 23218), ('tech organization', 22168), ('tech state/province', 22155), ('admin state/province', 22081), ('admin organization', 22031), ('admin city', 21083), ('tech city', 21072), ('registrant city', 20011), ('registrant name', 19930), ('registrant phone', 19501)]\n"
     ]
    }
   ],
   "source": [
    "minset = Counter()\n",
    "cnt = 0\n",
    "\n",
    "for url in train_df.url.values[1:]:\n",
    "    tmp = train_whois_json_response[url]\n",
    "    if tmp[\"response_code\"] == 0 or tmp['whois'] == None:\n",
    "        continue\n",
    "    tmp = tmp['whois'].split('\\n')\n",
    "    tmp = [i.split(':')[0].lower() for i in tmp]\n",
    "    minset += Counter(set(tmp))\n",
    "\n",
    "print(minset.most_common(30))"
   ]
  },
  {
   "cell_type": "code",
   "execution_count": 102,
   "metadata": {},
   "outputs": [
    {
     "data": {
      "text/plain": [
       "'DNSSEC: unsigned\\nDomain Name: mtsx.com.cn\\nDomain Status: ok\\nExpiration Time: 2021-08-20 17:36:12\\nName Server: ns1.myhostadmin.net\\nName Server: ns2.myhostadmin.net\\nRegistrant Contact Email: 80d531aef57a4037\\nRegistrant ID: 4cd3e40d1b828e90\\nRegistrant: 0fa8c9414773127c\\nRegistration Time: 2012-08-20 17:36:12\\nSponsoring Registrar: 北京新网数码信息技术有限公司'"
      ]
     },
     "execution_count": 102,
     "metadata": {},
     "output_type": "execute_result"
    }
   ],
   "source": [
    "train_whois_json_response[train_df.url.values[1]]['whois']"
   ]
  },
  {
   "cell_type": "code",
   "execution_count": 99,
   "metadata": {},
   "outputs": [
    {
     "data": {
      "text/plain": [
       "4690"
      ]
     },
     "execution_count": 99,
     "metadata": {},
     "output_type": "execute_result"
    }
   ],
   "source": [
    "minset['status']"
   ]
  },
  {
   "cell_type": "code",
   "execution_count": 110,
   "metadata": {},
   "outputs": [],
   "source": [
    "d = set([\"domain name\", \"domain\"])\n",
    "n = set([\"name server\", \"nserver\"])\n",
    "s = set(['domain status', 'status'])\n",
    "w = set([\"dnssec\", \"registrar\", \"registrar whois server\", 'registrant country'])"
   ]
  },
  {
   "cell_type": "code",
   "execution_count": 114,
   "metadata": {},
   "outputs": [
    {
     "name": "stdout",
     "output_type": "stream",
     "text": [
      "29686\n"
     ]
    }
   ],
   "source": [
    "whois = {}\n",
    "\n",
    "for url in train_df.url.values[1:]:\n",
    "    response = train_whois_json_response[url]\n",
    "    if response[\"response_code\"] == 0 or response['whois'] == None:\n",
    "        continue\n",
    "    tmp = response['whois'].split('\\n')\n",
    "    keys = set([i.split(':')[0].lower() for i in tmp])\n",
    "    if len(w - keys) == 0:\n",
    "        try:\n",
    "            whois[url] = {}\n",
    "            for i in tmp:\n",
    "                key = i.split(':')[0].strip().lower()\n",
    "                value = i.split(':')[1].strip().lower()\n",
    "                if key in d:\n",
    "                    key = \"domain name\"\n",
    "                    whois[url][key] = value\n",
    "                elif key in s:\n",
    "                    key = \"domain status\"\n",
    "                    whois[url][key] = value\n",
    "                elif key in s:\n",
    "                    key = \"name server\"\n",
    "                    whois[url][key] = value\n",
    "                elif key in w:\n",
    "                    whois[url][key] = value\n",
    "        except:\n",
    "            pass\n",
    "            \n",
    "\n",
    "print(len(whois))"
   ]
  },
  {
   "cell_type": "code",
   "execution_count": null,
   "metadata": {},
   "outputs": [],
   "source": []
  }
 ],
 "metadata": {
  "kernelspec": {
   "display_name": "Python 3",
   "language": "python",
   "name": "python3"
  },
  "language_info": {
   "codemirror_mode": {
    "name": "ipython",
    "version": 3
   },
   "file_extension": ".py",
   "mimetype": "text/x-python",
   "name": "python",
   "nbconvert_exporter": "python",
   "pygments_lexer": "ipython3",
   "version": "3.5.2"
  }
 },
 "nbformat": 4,
 "nbformat_minor": 4
}
