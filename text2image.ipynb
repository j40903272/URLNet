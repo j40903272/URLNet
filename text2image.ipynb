{
 "cells": [
  {
   "cell_type": "code",
   "execution_count": null,
   "metadata": {},
   "outputs": [],
   "source": [
    "%matplotlib inline\n",
    "from PIL import Image, ImageDraw, ImageFont\n",
    "img = Image.new('RGB', (64, 64))\n",
    "d = ImageDraw.Draw(img)\n",
    "\n",
    "text = 'Hello'\n",
    "fontname = \"arial.ttf\"\n",
    "fontsize = 11\n",
    "font = ImageFont.truetype(fontname, fontsize)\n",
    "color = (255, 255, 255)\n",
    "\n",
    "d.text((20, 20), text, fill=color, font=font)\n",
    "img.save('test.png')"
   ]
  }
 ],
 "metadata": {
  "kernelspec": {
   "display_name": "Python 3",
   "language": "python",
   "name": "python3"
  },
  "language_info": {
   "codemirror_mode": {
    "name": "ipython",
    "version": 3
   },
   "file_extension": ".py",
   "mimetype": "text/x-python",
   "name": "python",
   "nbconvert_exporter": "python",
   "pygments_lexer": "ipython3",
   "version": "3.5.2"
  }
 },
 "nbformat": 4,
 "nbformat_minor": 2
}
