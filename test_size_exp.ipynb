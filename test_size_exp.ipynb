{
 "cells": [
  {
   "cell_type": "code",
   "execution_count": 1,
   "metadata": {},
   "outputs": [],
   "source": [
    "import os, sys\n",
    "import itertools\n",
    "import subprocess"
   ]
  },
  {
   "cell_type": "code",
   "execution_count": 2,
   "metadata": {},
   "outputs": [],
   "source": [
    "mode = [1, 2]\n",
    "size = [0.1, 0.3, 0.5, 0.7]\n",
    "data = [\"train_10000.txt\", \"val_10000.txt\", \"test_10000.txt\"]\n",
    "n_total = 2*4*3"
   ]
  },
  {
   "cell_type": "raw",
   "metadata": {},
   "source": [
    "model.emb_mode\n",
    "log.checkpoint_dir\n",
    "data.data_dir\n",
    "log.output_dir"
   ]
  },
  {
   "cell_type": "code",
   "execution_count": 3,
   "metadata": {},
   "outputs": [
    {
     "name": "stdout",
     "output_type": "stream",
     "text": [
      "['python3', 'train.py', '--model.emb_mode', '1', '--log.output_dir', 'runs/10000_char_3/', '--data.dev_pct', '0.3', '--data.data_dir', 'train_10000.txt']\n",
      "['python3', 'train.py', '--model.emb_mode', '1', '--log.output_dir', 'runs/10000_char_5/', '--data.dev_pct', '0.5', '--data.data_dir', 'train_10000.txt']\n",
      "['python3', 'train.py', '--model.emb_mode', '1', '--log.output_dir', 'runs/10000_char_7/', '--data.dev_pct', '0.7', '--data.data_dir', 'train_10000.txt']\n",
      "['python3', 'train.py', '--model.emb_mode', '2', '--log.output_dir', 'runs/10000_word_3/', '--data.dev_pct', '0.3', '--data.data_dir', 'train_10000.txt']\n",
      "['python3', 'train.py', '--model.emb_mode', '2', '--log.output_dir', 'runs/10000_word_5/', '--data.dev_pct', '0.5', '--data.data_dir', 'train_10000.txt']\n",
      "['python3', 'train.py', '--model.emb_mode', '2', '--log.output_dir', 'runs/10000_word_7/', '--data.dev_pct', '0.7', '--data.data_dir', 'train_10000.txt']\n"
     ]
    }
   ],
   "source": [
    "# train\n",
    "train_meta = []\n",
    "for i, j in itertools.product(mode, size):\n",
    "    path = \"runs/10000_{}_{}/\".format(\"word\" if i == 2 else \"char\", int(j*10))\n",
    "    if os.path.isfile(path+\"dada_train\"):\n",
    "        continue\n",
    "    command = [\"python3\", \"train.py\"]\n",
    "    command += [\"--model.emb_mode\", str(i)]\n",
    "    command += [\"--log.output_dir\", path]\n",
    "    command += [\"--data.dev_pct\", str(j)]\n",
    "    command += [\"--data.data_dir\", \"train_10000.txt\"]\n",
    "    print(command)\n",
    "\n",
    "    process = subprocess.run(command, check=True, stdout=subprocess.PIPE)\n",
    "    stdout = process.stdout.decode('utf-8')\n",
    "    #stdout = subprocess.check_output(command).decode('utf-8')\n",
    "    train_meta.append({\"cmd\":command, \"stdout\":stdout, \"emb_mode\":i, \"dev_pct\":j, \"path\":path})\n",
    "    subprocess.call([\"touch\", path+\"dada_train\"])"
   ]
  },
  {
   "cell_type": "raw",
   "metadata": {},
   "source": [
    "--data.subword_dict_dir runs/10000/subwords_dict.p\n",
    "--data.word_dict_dir runs/10000/words_dict.p\n",
    "--data.char_dict_dir runs/10000/chars_dict.p"
   ]
  },
  {
   "cell_type": "code",
   "execution_count": 7,
   "metadata": {},
   "outputs": [
    {
     "name": "stdout",
     "output_type": "stream",
     "text": [
      "['python3', 'test.py', '--model.emb_mode', '1', '--log.output_dir', 'runs/10000_char_1/', '--data.data_dir', 'train_10000.txt', '--log.checkpoint_dir', 'runs/10000_char_1/checkpoints', '--data.subword_dict_dir', 'runs/10000_char_1/subwords_dict.p', '--data.word_dict_dir', 'runs/10000_char_1/words_dict.p', '--data.char_dict_dir', 'runs/10000_char_1/chars_dict.p']\n",
      "Accuracy: 0.997271815446339\n",
      "['python3', 'test.py', '--model.emb_mode', '1', '--log.output_dir', 'runs/10000_char_1/', '--data.data_dir', 'val_10000.txt', '--log.checkpoint_dir', 'runs/10000_char_1/checkpoints', '--data.subword_dict_dir', 'runs/10000_char_1/subwords_dict.p', '--data.word_dict_dir', 'runs/10000_char_1/words_dict.p', '--data.char_dict_dir', 'runs/10000_char_1/chars_dict.p']\n",
      "Accuracy: 0.9961890243902439\n",
      "['python3', 'test.py', '--model.emb_mode', '1', '--log.output_dir', 'runs/10000_char_1/', '--data.data_dir', 'test_10000.txt', '--log.checkpoint_dir', 'runs/10000_char_1/checkpoints', '--data.subword_dict_dir', 'runs/10000_char_1/subwords_dict.p', '--data.word_dict_dir', 'runs/10000_char_1/words_dict.p', '--data.char_dict_dir', 'runs/10000_char_1/chars_dict.p']\n",
      "Accuracy: 0.9982496444590307\n",
      "['python3', 'test.py', '--model.emb_mode', '1', '--log.output_dir', 'runs/10000_char_3/', '--data.data_dir', 'train_10000.txt', '--log.checkpoint_dir', 'runs/10000_char_3/checkpoints', '--data.subword_dict_dir', 'runs/10000_char_3/subwords_dict.p', '--data.word_dict_dir', 'runs/10000_char_3/words_dict.p', '--data.char_dict_dir', 'runs/10000_char_3/chars_dict.p']\n",
      "Accuracy: 0.9908926780341023\n",
      "['python3', 'test.py', '--model.emb_mode', '1', '--log.output_dir', 'runs/10000_char_3/', '--data.data_dir', 'val_10000.txt', '--log.checkpoint_dir', 'runs/10000_char_3/checkpoints', '--data.subword_dict_dir', 'runs/10000_char_3/subwords_dict.p', '--data.word_dict_dir', 'runs/10000_char_3/words_dict.p', '--data.char_dict_dir', 'runs/10000_char_3/chars_dict.p']\n",
      "Accuracy: 0.9885670731707317\n",
      "['python3', 'test.py', '--model.emb_mode', '1', '--log.output_dir', 'runs/10000_char_3/', '--data.data_dir', 'test_10000.txt', '--log.checkpoint_dir', 'runs/10000_char_3/checkpoints', '--data.subword_dict_dir', 'runs/10000_char_3/subwords_dict.p', '--data.word_dict_dir', 'runs/10000_char_3/words_dict.p', '--data.char_dict_dir', 'runs/10000_char_3/chars_dict.p']\n",
      "Accuracy: 0.9915764139590855\n",
      "['python3', 'test.py', '--model.emb_mode', '1', '--log.output_dir', 'runs/10000_char_5/', '--data.data_dir', 'train_10000.txt', '--log.checkpoint_dir', 'runs/10000_char_5/checkpoints', '--data.subword_dict_dir', 'runs/10000_char_5/subwords_dict.p', '--data.word_dict_dir', 'runs/10000_char_5/words_dict.p', '--data.char_dict_dir', 'runs/10000_char_5/chars_dict.p']\n",
      "Accuracy: 0.9662788365095286\n",
      "['python3', 'test.py', '--model.emb_mode', '1', '--log.output_dir', 'runs/10000_char_5/', '--data.data_dir', 'val_10000.txt', '--log.checkpoint_dir', 'runs/10000_char_5/checkpoints', '--data.subword_dict_dir', 'runs/10000_char_5/subwords_dict.p', '--data.word_dict_dir', 'runs/10000_char_5/words_dict.p', '--data.char_dict_dir', 'runs/10000_char_5/chars_dict.p']\n",
      "Accuracy: 0.9657012195121951\n",
      "['python3', 'test.py', '--model.emb_mode', '1', '--log.output_dir', 'runs/10000_char_5/', '--data.data_dir', 'test_10000.txt', '--log.checkpoint_dir', 'runs/10000_char_5/checkpoints', '--data.subword_dict_dir', 'runs/10000_char_5/subwords_dict.p', '--data.word_dict_dir', 'runs/10000_char_5/words_dict.p', '--data.char_dict_dir', 'runs/10000_char_5/chars_dict.p']\n",
      "Accuracy: 0.996608686139372\n",
      "['python3', 'test.py', '--model.emb_mode', '1', '--log.output_dir', 'runs/10000_char_7/', '--data.data_dir', 'train_10000.txt', '--log.checkpoint_dir', 'runs/10000_char_7/checkpoints', '--data.subword_dict_dir', 'runs/10000_char_7/subwords_dict.p', '--data.word_dict_dir', 'runs/10000_char_7/words_dict.p', '--data.char_dict_dir', 'runs/10000_char_7/chars_dict.p']\n",
      "Accuracy: 0.9842928786359078\n",
      "['python3', 'test.py', '--model.emb_mode', '1', '--log.output_dir', 'runs/10000_char_7/', '--data.data_dir', 'val_10000.txt', '--log.checkpoint_dir', 'runs/10000_char_7/checkpoints', '--data.subword_dict_dir', 'runs/10000_char_7/subwords_dict.p', '--data.word_dict_dir', 'runs/10000_char_7/words_dict.p', '--data.char_dict_dir', 'runs/10000_char_7/chars_dict.p']\n",
      "Accuracy: 0.9820884146341463\n",
      "['python3', 'test.py', '--model.emb_mode', '1', '--log.output_dir', 'runs/10000_char_7/', '--data.data_dir', 'test_10000.txt', '--log.checkpoint_dir', 'runs/10000_char_7/checkpoints', '--data.subword_dict_dir', 'runs/10000_char_7/subwords_dict.p', '--data.word_dict_dir', 'runs/10000_char_7/words_dict.p', '--data.char_dict_dir', 'runs/10000_char_7/chars_dict.p']\n",
      "Accuracy: 0.9753856252051198\n",
      "['python3', 'test.py', '--model.emb_mode', '2', '--log.output_dir', 'runs/10000_word_1/', '--data.data_dir', 'train_10000.txt', '--log.checkpoint_dir', 'runs/10000_word_1/checkpoints', '--data.subword_dict_dir', 'runs/10000_word_1/subwords_dict.p', '--data.word_dict_dir', 'runs/10000_word_1/words_dict.p', '--data.char_dict_dir', 'runs/10000_word_1/chars_dict.p']\n",
      "Accuracy: 0.9992377131394182\n",
      "['python3', 'test.py', '--model.emb_mode', '2', '--log.output_dir', 'runs/10000_word_1/', '--data.data_dir', 'val_10000.txt', '--log.checkpoint_dir', 'runs/10000_word_1/checkpoints', '--data.subword_dict_dir', 'runs/10000_word_1/subwords_dict.p', '--data.word_dict_dir', 'runs/10000_word_1/words_dict.p', '--data.char_dict_dir', 'runs/10000_word_1/chars_dict.p']\n",
      "Accuracy: 0.9988567073170732\n",
      "['python3', 'test.py', '--model.emb_mode', '2', '--log.output_dir', 'runs/10000_word_1/', '--data.data_dir', 'test_10000.txt', '--log.checkpoint_dir', 'runs/10000_word_1/checkpoints', '--data.subword_dict_dir', 'runs/10000_word_1/subwords_dict.p', '--data.word_dict_dir', 'runs/10000_word_1/words_dict.p', '--data.char_dict_dir', 'runs/10000_word_1/chars_dict.p']\n",
      "Accuracy: 0.9981402472377202\n",
      "['python3', 'test.py', '--model.emb_mode', '2', '--log.output_dir', 'runs/10000_word_3/', '--data.data_dir', 'train_10000.txt', '--log.checkpoint_dir', 'runs/10000_word_3/checkpoints', '--data.subword_dict_dir', 'runs/10000_word_3/subwords_dict.p', '--data.word_dict_dir', 'runs/10000_word_3/words_dict.p', '--data.char_dict_dir', 'runs/10000_word_3/chars_dict.p']\n",
      "Accuracy: 0.9967703109327984\n",
      "['python3', 'test.py', '--model.emb_mode', '2', '--log.output_dir', 'runs/10000_word_3/', '--data.data_dir', 'val_10000.txt', '--log.checkpoint_dir', 'runs/10000_word_3/checkpoints', '--data.subword_dict_dir', 'runs/10000_word_3/subwords_dict.p', '--data.word_dict_dir', 'runs/10000_word_3/words_dict.p', '--data.char_dict_dir', 'runs/10000_word_3/chars_dict.p']\n",
      "Accuracy: 0.9969512195121951\n",
      "['python3', 'test.py', '--model.emb_mode', '2', '--log.output_dir', 'runs/10000_word_3/', '--data.data_dir', 'test_10000.txt', '--log.checkpoint_dir', 'runs/10000_word_3/checkpoints', '--data.subword_dict_dir', 'runs/10000_word_3/subwords_dict.p', '--data.word_dict_dir', 'runs/10000_word_3/words_dict.p', '--data.char_dict_dir', 'runs/10000_word_3/chars_dict.p']\n",
      "Accuracy: 0.9974838639098567\n",
      "['python3', 'test.py', '--model.emb_mode', '2', '--log.output_dir', 'runs/10000_word_5/', '--data.data_dir', 'train_10000.txt', '--log.checkpoint_dir', 'runs/10000_word_5/checkpoints', '--data.subword_dict_dir', 'runs/10000_word_5/subwords_dict.p', '--data.word_dict_dir', 'runs/10000_word_5/words_dict.p', '--data.char_dict_dir', 'runs/10000_word_5/chars_dict.p']\n",
      "Accuracy: 0.993801404212638\n",
      "['python3', 'test.py', '--model.emb_mode', '2', '--log.output_dir', 'runs/10000_word_5/', '--data.data_dir', 'val_10000.txt', '--log.checkpoint_dir', 'runs/10000_word_5/checkpoints', '--data.subword_dict_dir', 'runs/10000_word_5/subwords_dict.p', '--data.word_dict_dir', 'runs/10000_word_5/words_dict.p', '--data.char_dict_dir', 'runs/10000_word_5/chars_dict.p']\n",
      "Accuracy: 0.993140243902439\n",
      "['python3', 'test.py', '--model.emb_mode', '2', '--log.output_dir', 'runs/10000_word_5/', '--data.data_dir', 'test_10000.txt', '--log.checkpoint_dir', 'runs/10000_word_5/checkpoints', '--data.subword_dict_dir', 'runs/10000_word_5/subwords_dict.p', '--data.word_dict_dir', 'runs/10000_word_5/words_dict.p', '--data.char_dict_dir', 'runs/10000_word_5/chars_dict.p']\n",
      "Accuracy: 0.9943113444918499\n",
      "['python3', 'test.py', '--model.emb_mode', '2', '--log.output_dir', 'runs/10000_word_7/', '--data.data_dir', 'train_10000.txt', '--log.checkpoint_dir', 'runs/10000_word_7/checkpoints', '--data.subword_dict_dir', 'runs/10000_word_7/subwords_dict.p', '--data.word_dict_dir', 'runs/10000_word_7/words_dict.p', '--data.char_dict_dir', 'runs/10000_word_7/chars_dict.p']\n",
      "Accuracy: 0.990692076228686\n",
      "['python3', 'test.py', '--model.emb_mode', '2', '--log.output_dir', 'runs/10000_word_7/', '--data.data_dir', 'val_10000.txt', '--log.checkpoint_dir', 'runs/10000_word_7/checkpoints', '--data.subword_dict_dir', 'runs/10000_word_7/subwords_dict.p', '--data.word_dict_dir', 'runs/10000_word_7/words_dict.p', '--data.char_dict_dir', 'runs/10000_word_7/chars_dict.p']\n",
      "Accuracy: 0.9889481707317073\n",
      "['python3', 'test.py', '--model.emb_mode', '2', '--log.output_dir', 'runs/10000_word_7/', '--data.data_dir', 'test_10000.txt', '--log.checkpoint_dir', 'runs/10000_word_7/checkpoints', '--data.subword_dict_dir', 'runs/10000_word_7/subwords_dict.p', '--data.word_dict_dir', 'runs/10000_word_7/words_dict.p', '--data.char_dict_dir', 'runs/10000_word_7/chars_dict.p']\n",
      "Accuracy: 0.9943113444918499\n"
     ]
    }
   ],
   "source": [
    "# test\n",
    "test_meta = []\n",
    "for i, j, k in itertools.product(mode, size, data):\n",
    "    path = \"runs/10000_{}_{}/\".format(\"word\" if i == 2 else \"char\", int(j*10))\n",
    "    checkpoint = path + \"checkpoints\"\n",
    "    subword_dict = path + \"subwords_dict.p\"\n",
    "    word_dict = path + \"words_dict.p\"\n",
    "    char_dict = path + \"chars_dict.p\"\n",
    "    \n",
    "    if os.path.isfile(path+\"dada_test_\"+k):\n",
    "        continue\n",
    "    command = [\"python3\", \"test.py\"]\n",
    "    command += [\"--model.emb_mode\", str(i)]\n",
    "    command += [\"--log.output_dir\", path]\n",
    "    command += [\"--data.data_dir\", k]\n",
    "    command += [\"--log.checkpoint_dir\", checkpoint]\n",
    "    command += [\"--data.subword_dict_dir\", subword_dict]\n",
    "    command += [\"--data.word_dict_dir\", word_dict]\n",
    "    command += [\"--data.char_dict_dir\", char_dict]\n",
    "    print(command)\n",
    "\n",
    "    process = subprocess.run(command, check=True, stdout=subprocess.PIPE)\n",
    "    stdout = process.stdout.decode('utf-8')\n",
    "    print(stdout.split('\\n')[-2])\n",
    "    test_meta.append({\"cmd\":command, \"stdout\":stdout, \"emb_mode\":i, \"data\":k, \"path\":path, \"dev_pct\":j})\n",
    "    subprocess.call([\"touch\", path+\"dada_test_\"+k])"
   ]
  },
  {
   "cell_type": "code",
   "execution_count": 6,
   "metadata": {},
   "outputs": [
    {
     "name": "stdout",
     "output_type": "stream",
     "text": [
      "['python3', 'test.py', '--model.emb_mode', '1', '--log.output_dir', 'runs/10000_char_1/', '--data.data_dir', '../taipei/out.csv', '--log.checkpoint_dir', 'runs/10000_char_1/checkpoints', '--data.subword_dict_dir', 'runs/10000_char_1/subwords_dict.p', '--data.word_dict_dir', 'runs/10000_char_1/words_dict.p', '--data.char_dict_dir', 'runs/10000_char_1/chars_dict.p']\n"
     ]
    },
    {
     "ename": "KeyboardInterrupt",
     "evalue": "",
     "output_type": "error",
     "traceback": [
      "\u001b[0;31m---------------------------------------------------------------------------\u001b[0m",
      "\u001b[0;31mKeyboardInterrupt\u001b[0m                         Traceback (most recent call last)",
      "\u001b[0;32m<ipython-input-6-f4e530c14b70>\u001b[0m in \u001b[0;36m<module>\u001b[0;34m\u001b[0m\n\u001b[1;32m     20\u001b[0m     \u001b[0mprint\u001b[0m\u001b[0;34m(\u001b[0m\u001b[0mcommand\u001b[0m\u001b[0;34m)\u001b[0m\u001b[0;34m\u001b[0m\u001b[0m\n\u001b[1;32m     21\u001b[0m \u001b[0;34m\u001b[0m\u001b[0m\n\u001b[0;32m---> 22\u001b[0;31m     \u001b[0mprocess\u001b[0m \u001b[0;34m=\u001b[0m \u001b[0msubprocess\u001b[0m\u001b[0;34m.\u001b[0m\u001b[0mrun\u001b[0m\u001b[0;34m(\u001b[0m\u001b[0mcommand\u001b[0m\u001b[0;34m,\u001b[0m \u001b[0mcheck\u001b[0m\u001b[0;34m=\u001b[0m\u001b[0;32mTrue\u001b[0m\u001b[0;34m,\u001b[0m \u001b[0mstdout\u001b[0m\u001b[0;34m=\u001b[0m\u001b[0msubprocess\u001b[0m\u001b[0;34m.\u001b[0m\u001b[0mPIPE\u001b[0m\u001b[0;34m)\u001b[0m\u001b[0;34m\u001b[0m\u001b[0m\n\u001b[0m\u001b[1;32m     23\u001b[0m     \u001b[0mstdout\u001b[0m \u001b[0;34m=\u001b[0m \u001b[0mprocess\u001b[0m\u001b[0;34m.\u001b[0m\u001b[0mstdout\u001b[0m\u001b[0;34m.\u001b[0m\u001b[0mdecode\u001b[0m\u001b[0;34m(\u001b[0m\u001b[0;34m'utf-8'\u001b[0m\u001b[0;34m)\u001b[0m\u001b[0;34m\u001b[0m\u001b[0m\n\u001b[1;32m     24\u001b[0m     \u001b[0mprint\u001b[0m\u001b[0;34m(\u001b[0m\u001b[0mstdout\u001b[0m\u001b[0;34m.\u001b[0m\u001b[0msplit\u001b[0m\u001b[0;34m(\u001b[0m\u001b[0;34m'\\n'\u001b[0m\u001b[0;34m)\u001b[0m\u001b[0;34m[\u001b[0m\u001b[0;34m-\u001b[0m\u001b[0;36m2\u001b[0m\u001b[0;34m]\u001b[0m\u001b[0;34m)\u001b[0m\u001b[0;34m\u001b[0m\u001b[0m\n",
      "\u001b[0;32m/usr/lib/python3.5/subprocess.py\u001b[0m in \u001b[0;36mrun\u001b[0;34m(input, timeout, check, *popenargs, **kwargs)\u001b[0m\n\u001b[1;32m    693\u001b[0m     \u001b[0;32mwith\u001b[0m \u001b[0mPopen\u001b[0m\u001b[0;34m(\u001b[0m\u001b[0;34m*\u001b[0m\u001b[0mpopenargs\u001b[0m\u001b[0;34m,\u001b[0m \u001b[0;34m**\u001b[0m\u001b[0mkwargs\u001b[0m\u001b[0;34m)\u001b[0m \u001b[0;32mas\u001b[0m \u001b[0mprocess\u001b[0m\u001b[0;34m:\u001b[0m\u001b[0;34m\u001b[0m\u001b[0m\n\u001b[1;32m    694\u001b[0m         \u001b[0;32mtry\u001b[0m\u001b[0;34m:\u001b[0m\u001b[0;34m\u001b[0m\u001b[0m\n\u001b[0;32m--> 695\u001b[0;31m             \u001b[0mstdout\u001b[0m\u001b[0;34m,\u001b[0m \u001b[0mstderr\u001b[0m \u001b[0;34m=\u001b[0m \u001b[0mprocess\u001b[0m\u001b[0;34m.\u001b[0m\u001b[0mcommunicate\u001b[0m\u001b[0;34m(\u001b[0m\u001b[0minput\u001b[0m\u001b[0;34m,\u001b[0m \u001b[0mtimeout\u001b[0m\u001b[0;34m=\u001b[0m\u001b[0mtimeout\u001b[0m\u001b[0;34m)\u001b[0m\u001b[0;34m\u001b[0m\u001b[0m\n\u001b[0m\u001b[1;32m    696\u001b[0m         \u001b[0;32mexcept\u001b[0m \u001b[0mTimeoutExpired\u001b[0m\u001b[0;34m:\u001b[0m\u001b[0;34m\u001b[0m\u001b[0m\n\u001b[1;32m    697\u001b[0m             \u001b[0mprocess\u001b[0m\u001b[0;34m.\u001b[0m\u001b[0mkill\u001b[0m\u001b[0;34m(\u001b[0m\u001b[0;34m)\u001b[0m\u001b[0;34m\u001b[0m\u001b[0m\n",
      "\u001b[0;32m/usr/lib/python3.5/subprocess.py\u001b[0m in \u001b[0;36mcommunicate\u001b[0;34m(self, input, timeout)\u001b[0m\n\u001b[1;32m   1057\u001b[0m                 \u001b[0mself\u001b[0m\u001b[0;34m.\u001b[0m\u001b[0m_stdin_write\u001b[0m\u001b[0;34m(\u001b[0m\u001b[0minput\u001b[0m\u001b[0;34m)\u001b[0m\u001b[0;34m\u001b[0m\u001b[0m\n\u001b[1;32m   1058\u001b[0m             \u001b[0;32melif\u001b[0m \u001b[0mself\u001b[0m\u001b[0;34m.\u001b[0m\u001b[0mstdout\u001b[0m\u001b[0;34m:\u001b[0m\u001b[0;34m\u001b[0m\u001b[0m\n\u001b[0;32m-> 1059\u001b[0;31m                 \u001b[0mstdout\u001b[0m \u001b[0;34m=\u001b[0m \u001b[0mself\u001b[0m\u001b[0;34m.\u001b[0m\u001b[0mstdout\u001b[0m\u001b[0;34m.\u001b[0m\u001b[0mread\u001b[0m\u001b[0;34m(\u001b[0m\u001b[0;34m)\u001b[0m\u001b[0;34m\u001b[0m\u001b[0m\n\u001b[0m\u001b[1;32m   1060\u001b[0m                 \u001b[0mself\u001b[0m\u001b[0;34m.\u001b[0m\u001b[0mstdout\u001b[0m\u001b[0;34m.\u001b[0m\u001b[0mclose\u001b[0m\u001b[0;34m(\u001b[0m\u001b[0;34m)\u001b[0m\u001b[0;34m\u001b[0m\u001b[0m\n\u001b[1;32m   1061\u001b[0m             \u001b[0;32melif\u001b[0m \u001b[0mself\u001b[0m\u001b[0;34m.\u001b[0m\u001b[0mstderr\u001b[0m\u001b[0;34m:\u001b[0m\u001b[0;34m\u001b[0m\u001b[0m\n",
      "\u001b[0;31mKeyboardInterrupt\u001b[0m: "
     ]
    }
   ],
   "source": [
    "# test\n",
    "test_meta = []\n",
    "for i, j, k in itertools.product(mode, size, [\"../taipei/out.csv\"]):\n",
    "    path = \"runs/10000_{}_{}/\".format(\"word\" if i == 2 else \"char\", int(j*10))\n",
    "    checkpoint = path + \"checkpoints\"\n",
    "    subword_dict = path + \"subwords_dict.p\"\n",
    "    word_dict = path + \"words_dict.p\"\n",
    "    char_dict = path + \"chars_dict.p\"\n",
    "    \n",
    "    if os.path.isfile(path+\"dada_test_\"+k):\n",
    "        continue\n",
    "    command = [\"python3\", \"test.py\"]\n",
    "    command += [\"--model.emb_mode\", str(i)]\n",
    "    command += [\"--log.output_dir\", path]\n",
    "    command += [\"--data.data_dir\", k]\n",
    "    command += [\"--log.checkpoint_dir\", checkpoint]\n",
    "    command += [\"--data.subword_dict_dir\", subword_dict]\n",
    "    command += [\"--data.word_dict_dir\", word_dict]\n",
    "    command += [\"--data.char_dict_dir\", char_dict]\n",
    "    print(command)\n",
    "\n",
    "    process = subprocess.run(command, check=True, stdout=subprocess.PIPE)\n",
    "    stdout = process.stdout.decode('utf-8')\n",
    "    print(stdout.split('\\n')[-2])\n",
    "    test_meta.append({\"cmd\":command, \"stdout\":stdout, \"emb_mode\":i, \"data\":k, \"path\":path, \"dev_pct\":j})\n",
    "    subprocess.call([\"touch\", path+\"dada_test_\"+k])"
   ]
  },
  {
   "cell_type": "code",
   "execution_count": null,
   "metadata": {},
   "outputs": [],
   "source": []
  }
 ],
 "metadata": {
  "kernelspec": {
   "display_name": "Python 3",
   "language": "python",
   "name": "python3"
  },
  "language_info": {
   "codemirror_mode": {
    "name": "ipython",
    "version": 3
   },
   "file_extension": ".py",
   "mimetype": "text/x-python",
   "name": "python",
   "nbconvert_exporter": "python",
   "pygments_lexer": "ipython3",
   "version": "3.5.2"
  }
 },
 "nbformat": 4,
 "nbformat_minor": 4
}
