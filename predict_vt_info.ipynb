{
 "cells": [
  {
   "cell_type": "code",
   "execution_count": 2,
   "metadata": {},
   "outputs": [],
   "source": [
    "import numpy as np\n",
    "import pandas as pd"
   ]
  },
  {
   "cell_type": "code",
   "execution_count": 1,
   "metadata": {},
   "outputs": [
    {
     "name": "stdout",
     "output_type": "stream",
     "text": [
      "54556 2624\n"
     ]
    }
   ],
   "source": [
    "import pickle\n",
    "with open(\"train_vt_response.pkl\", \"rb\") as f:\n",
    "    train_vt_json_response = pickle.load(f)\n",
    "with open(\"test_vt_response.pkl\", \"rb\") as f:\n",
    "    test_vt_json_response = pickle.load(f)\n",
    "\n",
    "print(len(train_vt_json_response), len(test_vt_json_response))"
   ]
  },
  {
   "cell_type": "code",
   "execution_count": 18,
   "metadata": {},
   "outputs": [
    {
     "name": "stdout",
     "output_type": "stream",
     "text": [
      "49846 2624\n"
     ]
    }
   ],
   "source": [
    "import pickle\n",
    "with open(\"train_whois_response.pkl\", \"rb\") as f:\n",
    "    train_whois_json_response = pickle.load(f)\n",
    "with open(\"test_whois_response.pkl\", \"rb\") as f:\n",
    "    test_whois_json_response = pickle.load(f)\n",
    "\n",
    "print(len(train_whois_json_response), len(test_whois_json_response))"
   ]
  },
  {
   "cell_type": "code",
   "execution_count": 4,
   "metadata": {},
   "outputs": [
    {
     "name": "stdout",
     "output_type": "stream",
     "text": [
      "49850 2624\n"
     ]
    }
   ],
   "source": [
    "train_df = pd.read_csv(\"train_10000.txt\", header=None)\n",
    "test_df = pd.read_csv(\"test_10000.txt\", header=None)\n",
    "\n",
    "train_df.columns = test_df.columns = [\"label\", \"url\"]\n",
    "print(len(train_df), len(test_df))"
   ]
  },
  {
   "cell_type": "code",
   "execution_count": 8,
   "metadata": {},
   "outputs": [],
   "source": [
    "for i in train_df.url.values:\n",
    "    assert (i in train_vt_json_response)\n",
    "\n",
    "for i in test_df.url.values:\n",
    "    assert (i in test_vt_json_response)"
   ]
  },
  {
   "cell_type": "code",
   "execution_count": 9,
   "metadata": {},
   "outputs": [
    {
     "data": {
      "text/plain": [
       "{'filescan_id': None,\n",
       " 'permalink': 'https://www.virustotal.com/url/b1a15f360bb57e0b79e2057aeeb0d3fac3199199f06b1acf870b16833ddd4c6c/analysis/1555484296/',\n",
       " 'positives': 0,\n",
       " 'resource': 'http://gzzax.livechatvalue.com/chat/chatClient/chatbox.jsp?companyID=11806&enterurl=file%3A%2F%2F%2FC%3A%2FUsers%2Famelia%2FDesktop%2F%25E7%25BD%2591%25E4%25B8%258A%25E8%25B5%258C%25E5%259C%25BA.html&pagetitle=&pagereferrer=&firstEnterUrl=file%3A%2F%2F%2FC%3A%2FUsers%2Famelia%2FDesktop%2F%25E7%25BD%2591%25E4%25B8%258A%25E8%25B5%258C%25E5%259C%25BA.html&lan=zh&tm=1420533810210',\n",
       " 'response_code': 1,\n",
       " 'scan_date': '2019-04-17 06:58:16',\n",
       " 'scan_id': 'b1a15f360bb57e0b79e2057aeeb0d3fac3199199f06b1acf870b16833ddd4c6c-1555484296',\n",
       " 'scans': {'ADMINUSLabs': {'detected': False, 'result': 'clean site'},\n",
       "  'AegisLab WebGuard': {'detected': False, 'result': 'clean site'},\n",
       "  'AlienVault': {'detected': False, 'result': 'clean site'},\n",
       "  'Antiy-AVL': {'detected': False, 'result': 'clean site'},\n",
       "  'AutoShun': {'detected': False, 'result': 'unrated site'},\n",
       "  'Avira': {'detected': False, 'result': 'clean site'},\n",
       "  'Baidu-International': {'detected': False, 'result': 'clean site'},\n",
       "  'BitDefender': {'detected': False, 'result': 'clean site'},\n",
       "  'Blueliv': {'detected': False, 'result': 'clean site'},\n",
       "  'C-SIRT': {'detected': False, 'result': 'clean site'},\n",
       "  'CLEAN MX': {'detected': False, 'result': 'clean site'},\n",
       "  'Certly': {'detected': False, 'result': 'clean site'},\n",
       "  'Comodo Site Inspector': {'detected': False, 'result': 'clean site'},\n",
       "  'CyRadar': {'detected': False, 'result': 'clean site'},\n",
       "  'CyberCrime': {'detected': False, 'result': 'clean site'},\n",
       "  'DNS8': {'detected': False, 'result': 'clean site'},\n",
       "  'Dr.Web': {'detected': False, 'result': 'clean site'},\n",
       "  'ESET': {'detected': False, 'result': 'clean site'},\n",
       "  'Emsisoft': {'detected': False, 'result': 'clean site'},\n",
       "  'Forcepoint ThreatSeeker': {'detected': False, 'result': 'clean site'},\n",
       "  'Fortinet': {'detected': False, 'result': 'clean site'},\n",
       "  'FraudScore': {'detected': False, 'result': 'clean site'},\n",
       "  'FraudSense': {'detected': False, 'result': 'clean site'},\n",
       "  'G-Data': {'detected': False, 'result': 'clean site'},\n",
       "  'Google Safebrowsing': {'detected': False, 'result': 'clean site'},\n",
       "  'K7AntiVirus': {'detected': False, 'result': 'clean site'},\n",
       "  'Kaspersky': {'detected': False, 'result': 'clean site'},\n",
       "  'Malc0de Database': {'detail': 'http://malc0de.com/database/index.php?search=gzzax.livechatvalue.com',\n",
       "   'detected': False,\n",
       "   'result': 'clean site'},\n",
       "  'Malekal': {'detected': False, 'result': 'clean site'},\n",
       "  'Malware Domain Blocklist': {'detected': False, 'result': 'clean site'},\n",
       "  'MalwareDomainList': {'detail': 'http://www.malwaredomainlist.com/mdl.php?search=gzzax.livechatvalue.com',\n",
       "   'detected': False,\n",
       "   'result': 'clean site'},\n",
       "  'MalwarePatrol': {'detected': False, 'result': 'clean site'},\n",
       "  'Malwarebytes hpHosts': {'detected': False, 'result': 'clean site'},\n",
       "  'Malwared': {'detected': False, 'result': 'clean site'},\n",
       "  'Netcraft': {'detected': False, 'result': 'unrated site'},\n",
       "  'NotMining': {'detected': False, 'result': 'unrated site'},\n",
       "  'Nucleon': {'detected': False, 'result': 'clean site'},\n",
       "  'OpenPhish': {'detected': False, 'result': 'clean site'},\n",
       "  'Opera': {'detected': False, 'result': 'clean site'},\n",
       "  'PhishLabs': {'detected': False, 'result': 'unrated site'},\n",
       "  'Phishtank': {'detected': False, 'result': 'clean site'},\n",
       "  'Quttera': {'detected': False, 'result': 'clean site'},\n",
       "  'Rising': {'detected': False, 'result': 'clean site'},\n",
       "  'SCUMWARE.org': {'detected': False, 'result': 'clean site'},\n",
       "  'SecureBrain': {'detected': False, 'result': 'clean site'},\n",
       "  'Sophos': {'detected': False, 'result': 'unrated site'},\n",
       "  'Spam404': {'detected': False, 'result': 'clean site'},\n",
       "  'StopBadware': {'detected': False, 'result': 'unrated site'},\n",
       "  'Sucuri SiteCheck': {'detected': False, 'result': 'clean site'},\n",
       "  'Tencent': {'detected': False, 'result': 'clean site'},\n",
       "  'ThreatHive': {'detected': False, 'result': 'clean site'},\n",
       "  'Trustwave': {'detected': False, 'result': 'clean site'},\n",
       "  'URLQuery': {'detected': False, 'result': 'unrated site'},\n",
       "  'VX Vault': {'detected': False, 'result': 'clean site'},\n",
       "  'Virusdie External Site Scan': {'detected': False, 'result': 'clean site'},\n",
       "  'Web Security Guard': {'detected': False, 'result': 'clean site'},\n",
       "  'Yandex Safebrowsing': {'detail': 'http://yandex.com/infected?l10n=en&url=http://gzzax.livechatvalue.com/chat/chatClient/chatbox.jsp?companyID=11806&enterurl=file:///C:/Users/amelia/Desktop/%E7%BD%91%E4%B8%8A%E8%B5%8C%E5%9C%BA.html&pagetitle=&pagereferrer=&firstEnterUrl=file:///C:/Users/amelia/Desktop/%E7%BD%91%E4%B8%8A%E8%B5%8C%E5%9C%BA.html&lan=zh&tm=1420533810210',\n",
       "   'detected': False,\n",
       "   'result': 'clean site'},\n",
       "  'ZCloudsec': {'detected': False, 'result': 'clean site'},\n",
       "  'ZDB Zeus': {'detected': False, 'result': 'clean site'},\n",
       "  'ZeroCERT': {'detected': False, 'result': 'clean site'},\n",
       "  'Zerofox': {'detected': False, 'result': 'clean site'},\n",
       "  'ZeusTracker': {'detail': 'https://zeustracker.abuse.ch/monitor.php?host=gzzax.livechatvalue.com',\n",
       "   'detected': False,\n",
       "   'result': 'clean site'},\n",
       "  'desenmascara.me': {'detected': False, 'result': 'clean site'},\n",
       "  'malwares.com URL checker': {'detected': False, 'result': 'clean site'},\n",
       "  'securolytics': {'detected': False, 'result': 'clean site'},\n",
       "  'zvelo': {'detected': False, 'result': 'clean site'}},\n",
       " 'total': 66,\n",
       " 'url': 'http://gzzax.livechatvalue.com/chat/chatClient/chatbox.jsp?companyID=11806&enterurl=file:///C:/Users/amelia/Desktop/%E7%BD%91%E4%B8%8A%E8%B5%8C%E5%9C%BA.html&pagetitle=&pagereferrer=&firstEnterUrl=file:///C:/Users/amelia/Desktop/%E7%BD%91%E4%B8%8A%E8%B5%8C%E5%9C%BA.html&lan=zh&tm=1420533810210',\n",
       " 'verbose_msg': 'Scan finished, scan information embedded in this object'}"
      ]
     },
     "execution_count": 9,
     "metadata": {},
     "output_type": "execute_result"
    }
   ],
   "source": [
    "url = train_df.url.values[0]\n",
    "train_vt_json_response[url]"
   ]
  },
  {
   "cell_type": "code",
   "execution_count": null,
   "metadata": {},
   "outputs": [],
   "source": []
  }
 ],
 "metadata": {
  "kernelspec": {
   "display_name": "Python 3",
   "language": "python",
   "name": "python3"
  },
  "language_info": {
   "codemirror_mode": {
    "name": "ipython",
    "version": 3
   },
   "file_extension": ".py",
   "mimetype": "text/x-python",
   "name": "python",
   "nbconvert_exporter": "python",
   "pygments_lexer": "ipython3",
   "version": "3.5.2"
  }
 },
 "nbformat": 4,
 "nbformat_minor": 2
}
